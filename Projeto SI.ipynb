{
 "cells": [
  {
   "cell_type": "markdown",
   "metadata": {},
   "source": [
    "# Importando bibliotecas"
   ]
  },
  {
   "cell_type": "code",
   "execution_count": 1,
   "metadata": {},
   "outputs": [],
   "source": [
    "import numpy as np\n",
    "import os\n",
    "from pandas import read_csv\n",
    "import time\n",
    "import pandas as pd\n",
    "import matplotlib.pyplot as plt\n",
    "from sklearn.tree import DecisionTreeClassifier\n",
    "from sklearn.neighbors import KNeighborsClassifier\n",
    "from sklearn.svm import LinearSVC\n",
    "from sklearn.neural_network import MLPClassifier\n",
    "from sklearn.metrics import confusion_matrix, precision_recall_fscore_support\n",
    "from sklearn.model_selection import StratifiedKFold, KFold\n",
    "from sklearn.preprocessing import normalize\n",
    "import argparse\n",
    "import csv\n",
    "import seaborn as sn"
   ]
  },
  {
   "cell_type": "markdown",
   "metadata": {},
   "source": [
    "## Carregando o dataset\n",
    "\n",
    "O dataset se encontra no link abaixo, e utilizamos o header para identificar cada um dos 32 atributos."
   ]
  },
  {
   "cell_type": "code",
   "execution_count": 2,
   "metadata": {},
   "outputs": [
    {
     "name": "stdout",
     "output_type": "stream",
     "text": [
      "Shape do dataset: (569, 32)\n"
     ]
    },
    {
     "data": {
      "text/html": [
       "<div>\n",
       "<style scoped>\n",
       "    .dataframe tbody tr th:only-of-type {\n",
       "        vertical-align: middle;\n",
       "    }\n",
       "\n",
       "    .dataframe tbody tr th {\n",
       "        vertical-align: top;\n",
       "    }\n",
       "\n",
       "    .dataframe thead th {\n",
       "        text-align: right;\n",
       "    }\n",
       "</style>\n",
       "<table border=\"1\" class=\"dataframe\">\n",
       "  <thead>\n",
       "    <tr style=\"text-align: right;\">\n",
       "      <th></th>\n",
       "      <th>ID</th>\n",
       "      <th>Diagnóstico</th>\n",
       "      <th>Raio - Média</th>\n",
       "      <th>Textura - Média</th>\n",
       "      <th>Perímetro - Média</th>\n",
       "      <th>Área - Média</th>\n",
       "      <th>Suavidade - Média</th>\n",
       "      <th>Compactação - Média</th>\n",
       "      <th>Concavidade - Média</th>\n",
       "      <th>Pontos Concavos - Média</th>\n",
       "      <th>...</th>\n",
       "      <th>Raio - Máximo</th>\n",
       "      <th>Textura - Máximo</th>\n",
       "      <th>Perímetro - Máximo</th>\n",
       "      <th>Área - Máximo</th>\n",
       "      <th>Suavidade - Máximo</th>\n",
       "      <th>Compactação - Máximo</th>\n",
       "      <th>Concavidade - Máximo</th>\n",
       "      <th>Pontos Concavos - Máximo</th>\n",
       "      <th>Simetria - Máximo</th>\n",
       "      <th>Dimensão Fractal - Máximo</th>\n",
       "    </tr>\n",
       "  </thead>\n",
       "  <tbody>\n",
       "    <tr>\n",
       "      <th>0</th>\n",
       "      <td>842302</td>\n",
       "      <td>1</td>\n",
       "      <td>17.99</td>\n",
       "      <td>10.38</td>\n",
       "      <td>122.80</td>\n",
       "      <td>1001.0</td>\n",
       "      <td>0.11840</td>\n",
       "      <td>0.27760</td>\n",
       "      <td>0.3001</td>\n",
       "      <td>0.14710</td>\n",
       "      <td>...</td>\n",
       "      <td>25.38</td>\n",
       "      <td>17.33</td>\n",
       "      <td>184.60</td>\n",
       "      <td>2019.0</td>\n",
       "      <td>0.1622</td>\n",
       "      <td>0.6656</td>\n",
       "      <td>0.7119</td>\n",
       "      <td>0.2654</td>\n",
       "      <td>0.4601</td>\n",
       "      <td>0.11890</td>\n",
       "    </tr>\n",
       "    <tr>\n",
       "      <th>1</th>\n",
       "      <td>842517</td>\n",
       "      <td>1</td>\n",
       "      <td>20.57</td>\n",
       "      <td>17.77</td>\n",
       "      <td>132.90</td>\n",
       "      <td>1326.0</td>\n",
       "      <td>0.08474</td>\n",
       "      <td>0.07864</td>\n",
       "      <td>0.0869</td>\n",
       "      <td>0.07017</td>\n",
       "      <td>...</td>\n",
       "      <td>24.99</td>\n",
       "      <td>23.41</td>\n",
       "      <td>158.80</td>\n",
       "      <td>1956.0</td>\n",
       "      <td>0.1238</td>\n",
       "      <td>0.1866</td>\n",
       "      <td>0.2416</td>\n",
       "      <td>0.1860</td>\n",
       "      <td>0.2750</td>\n",
       "      <td>0.08902</td>\n",
       "    </tr>\n",
       "    <tr>\n",
       "      <th>2</th>\n",
       "      <td>84300903</td>\n",
       "      <td>1</td>\n",
       "      <td>19.69</td>\n",
       "      <td>21.25</td>\n",
       "      <td>130.00</td>\n",
       "      <td>1203.0</td>\n",
       "      <td>0.10960</td>\n",
       "      <td>0.15990</td>\n",
       "      <td>0.1974</td>\n",
       "      <td>0.12790</td>\n",
       "      <td>...</td>\n",
       "      <td>23.57</td>\n",
       "      <td>25.53</td>\n",
       "      <td>152.50</td>\n",
       "      <td>1709.0</td>\n",
       "      <td>0.1444</td>\n",
       "      <td>0.4245</td>\n",
       "      <td>0.4504</td>\n",
       "      <td>0.2430</td>\n",
       "      <td>0.3613</td>\n",
       "      <td>0.08758</td>\n",
       "    </tr>\n",
       "    <tr>\n",
       "      <th>3</th>\n",
       "      <td>84348301</td>\n",
       "      <td>1</td>\n",
       "      <td>11.42</td>\n",
       "      <td>20.38</td>\n",
       "      <td>77.58</td>\n",
       "      <td>386.1</td>\n",
       "      <td>0.14250</td>\n",
       "      <td>0.28390</td>\n",
       "      <td>0.2414</td>\n",
       "      <td>0.10520</td>\n",
       "      <td>...</td>\n",
       "      <td>14.91</td>\n",
       "      <td>26.50</td>\n",
       "      <td>98.87</td>\n",
       "      <td>567.7</td>\n",
       "      <td>0.2098</td>\n",
       "      <td>0.8663</td>\n",
       "      <td>0.6869</td>\n",
       "      <td>0.2575</td>\n",
       "      <td>0.6638</td>\n",
       "      <td>0.17300</td>\n",
       "    </tr>\n",
       "    <tr>\n",
       "      <th>4</th>\n",
       "      <td>84358402</td>\n",
       "      <td>1</td>\n",
       "      <td>20.29</td>\n",
       "      <td>14.34</td>\n",
       "      <td>135.10</td>\n",
       "      <td>1297.0</td>\n",
       "      <td>0.10030</td>\n",
       "      <td>0.13280</td>\n",
       "      <td>0.1980</td>\n",
       "      <td>0.10430</td>\n",
       "      <td>...</td>\n",
       "      <td>22.54</td>\n",
       "      <td>16.67</td>\n",
       "      <td>152.20</td>\n",
       "      <td>1575.0</td>\n",
       "      <td>0.1374</td>\n",
       "      <td>0.2050</td>\n",
       "      <td>0.4000</td>\n",
       "      <td>0.1625</td>\n",
       "      <td>0.2364</td>\n",
       "      <td>0.07678</td>\n",
       "    </tr>\n",
       "  </tbody>\n",
       "</table>\n",
       "<p>5 rows × 32 columns</p>\n",
       "</div>"
      ],
      "text/plain": [
       "         ID  Diagnóstico  Raio - Média  Textura - Média  Perímetro - Média  \\\n",
       "0    842302            1         17.99            10.38             122.80   \n",
       "1    842517            1         20.57            17.77             132.90   \n",
       "2  84300903            1         19.69            21.25             130.00   \n",
       "3  84348301            1         11.42            20.38              77.58   \n",
       "4  84358402            1         20.29            14.34             135.10   \n",
       "\n",
       "   Área - Média  Suavidade - Média  Compactação - Média  Concavidade - Média  \\\n",
       "0        1001.0            0.11840              0.27760               0.3001   \n",
       "1        1326.0            0.08474              0.07864               0.0869   \n",
       "2        1203.0            0.10960              0.15990               0.1974   \n",
       "3         386.1            0.14250              0.28390               0.2414   \n",
       "4        1297.0            0.10030              0.13280               0.1980   \n",
       "\n",
       "   Pontos Concavos - Média  ...  Raio - Máximo  Textura - Máximo  \\\n",
       "0                  0.14710  ...          25.38             17.33   \n",
       "1                  0.07017  ...          24.99             23.41   \n",
       "2                  0.12790  ...          23.57             25.53   \n",
       "3                  0.10520  ...          14.91             26.50   \n",
       "4                  0.10430  ...          22.54             16.67   \n",
       "\n",
       "   Perímetro - Máximo  Área - Máximo  Suavidade - Máximo  \\\n",
       "0              184.60         2019.0              0.1622   \n",
       "1              158.80         1956.0              0.1238   \n",
       "2              152.50         1709.0              0.1444   \n",
       "3               98.87          567.7              0.2098   \n",
       "4              152.20         1575.0              0.1374   \n",
       "\n",
       "   Compactação - Máximo  Concavidade - Máximo  Pontos Concavos - Máximo  \\\n",
       "0                0.6656                0.7119                    0.2654   \n",
       "1                0.1866                0.2416                    0.1860   \n",
       "2                0.4245                0.4504                    0.2430   \n",
       "3                0.8663                0.6869                    0.2575   \n",
       "4                0.2050                0.4000                    0.1625   \n",
       "\n",
       "   Simetria - Máximo  Dimensão Fractal - Máximo  \n",
       "0             0.4601                    0.11890  \n",
       "1             0.2750                    0.08902  \n",
       "2             0.3613                    0.08758  \n",
       "3             0.6638                    0.17300  \n",
       "4             0.2364                    0.07678  \n",
       "\n",
       "[5 rows x 32 columns]"
      ]
     },
     "execution_count": 2,
     "metadata": {},
     "output_type": "execute_result"
    }
   ],
   "source": [
    "url = \"https://archive.ics.uci.edu/ml/machine-learning-databases/breast-cancer-wisconsin/wdbc.data\"\n",
    "colunas = [\"ID\",\"Diagnóstico\",\n",
    "           \"Raio - Média\",\"Textura - Média\",\"Perímetro - Média\",\"Área - Média\",\"Suavidade - Média\",\"Compactação - Média\",\"Concavidade - Média\",\"Pontos Concavos - Média\",\"Simetria - Média\",\"Dimensão Fractal - Média\",\n",
    "           \"Raio - Desvio Padrão\",\"Textura - Desvio Padrão\",\"Perímetro - Desvio Padrão\",\"Área - Desvio Padrão\",\"Suavidade - Desvio Padrão\",\"Compactação - Desvio Padrão\",\"Concavidade - Desvio Padrão\",\"Pontos Concavos - Desvio Padrão\",\"Simetria - Desvio Padrão\",\"Dimensão Fractal - Desvio Padrão\",\n",
    "           \"Raio - Máximo\",\"Textura - Máximo\",\"Perímetro - Máximo\",\"Área - Máximo\",\"Suavidade - Máximo\",\"Compactação - Máximo\",\"Concavidade - Máximo\",\"Pontos Concavos - Máximo\",\"Simetria - Máximo\",\"Dimensão Fractal - Máximo\"]\n",
    "dataset = read_csv(url, names = colunas).replace(['B','M'], [0,1])\n",
    "\n",
    "print(\"Shape do dataset:\", dataset.shape)\n",
    "dataset.head(5)"
   ]
  },
  {
   "cell_type": "code",
   "execution_count": 3,
   "metadata": {},
   "outputs": [],
   "source": [
    "array = dataset.values\n",
    "\n",
    "X = array[:, 2:]\n",
    "y = array[: , 1]\n",
    "\n",
    "X = normalize(X, 'max', axis=0)"
   ]
  },
  {
   "cell_type": "code",
   "execution_count": 4,
   "metadata": {},
   "outputs": [],
   "source": [
    "def create_clasifiers():\n",
    "    \n",
    "    classifiers = {}\n",
    "    parameters = {}\n",
    "    names = {}\n",
    "        \n",
    "    # KNN\n",
    "    neighbors = [1, 5, 10, 15, 20]\n",
    "    classifiers[\"knn\"] = list()\n",
    "    parameters[\"knn\"] = list()\n",
    "    names[\"knn\"] = \"K-Nearest Neighbors\"\n",
    "    for k in neighbors:\n",
    "        classifiers[\"knn\"].append(KNeighborsClassifier(n_neighbors=k))\n",
    "        parameters[\"knn\"].append(k)\n",
    "\n",
    "    # SVC\n",
    "    c = [0.1, 1, 5, 10]\n",
    "    classifiers[\"svc\"] = list()\n",
    "    parameters[\"svc\"] = list()\n",
    "    names[\"svc\"] = \"Linear Support Vector\"\n",
    "    for Cval in c:\n",
    "        classifiers[\"svc\"].append(LinearSVC(random_state=42, C=Cval, max_iter=10000))\n",
    "        parameters[\"svc\"].append(Cval)\n",
    "\n",
    "    # DT\n",
    "    max_f = ['sqrt', 'log2', 'auto', None]\n",
    "    classifiers[\"dt\"] = list()\n",
    "    parameters[\"dt\"] = list()\n",
    "    names[\"dt\"] = \"Decision Tree\"\n",
    "    for maxf in max_f:\n",
    "        classifiers[\"dt\"].append(DecisionTreeClassifier(random_state=42, max_features=maxf))\n",
    "        parameters[\"dt\"].append(maxf)\n",
    "\n",
    "    # MLP\n",
    "    layers = [5, 10, 30, 50]\n",
    "    classifiers[\"mlp\"] = list()\n",
    "    parameters[\"mlp\"] = list()\n",
    "    names[\"mlp\"] = \"Multi-Layer Perceptron\"\n",
    "    for lay in layers:\n",
    "        classifiers[\"mlp\"].append(MLPClassifier(random_state=42, hidden_layer_sizes=(lay,), max_iter=1000))\n",
    "        parameters[\"mlp\"].append(lay)\n",
    "    \n",
    "    return classifiers, names, parameters"
   ]
  },
  {
   "cell_type": "code",
   "execution_count": 5,
   "metadata": {},
   "outputs": [],
   "source": [
    "def sum_confusion_matrix(conf_matrix, conf_matrix_sum):\n",
    "\n",
    "    for i in range(0,2):\n",
    "        for j in range(0,2):\n",
    "            conf_matrix_sum[i][j] = conf_matrix_sum[i][j] + conf_matrix[i][j]\n",
    "\n",
    "    return conf_matrix_sum"
   ]
  },
  {
   "cell_type": "code",
   "execution_count": 6,
   "metadata": {},
   "outputs": [],
   "source": [
    "classifiers, names, parameters = create_clasifiers()"
   ]
  },
  {
   "cell_type": "code",
   "execution_count": 7,
   "metadata": {},
   "outputs": [],
   "source": [
    "kf = StratifiedKFold(n_splits=5, random_state=42, shuffle=True) "
   ]
  },
  {
   "cell_type": "code",
   "execution_count": 21,
   "metadata": {},
   "outputs": [],
   "source": [
    "def plot (title, precision, recall, fscore, key):\n",
    "    \n",
    "    x = np.array(range(len(parameters[key])))\n",
    "    y = np.array(precision)\n",
    "    \n",
    "    fig = plt.figure()\n",
    "    ax1 = fig.add_subplot(111)\n",
    "    \n",
    "    my_xticks = [\"None\" if x is None else x for x in parameters[key]]\n",
    "    plt.xticks(x, my_xticks)\n",
    "    plt.ylim(0.9, 1.0)\n",
    "    \n",
    "    plt.title(title)\n",
    "    plt.xlabel(\"Parametros\")\n",
    "    plt.ylabel(\"Score\")\n",
    "    \n",
    "    ax1.scatter(x, precision, label=\"Precision\")\n",
    "    ax1.scatter(x, recall, label=\"Recall\")\n",
    "    ax1.scatter(x, fscore, label=\"FScore\")\n",
    "    \n",
    "    plt.legend(loc='upper right');\n",
    "    plt.show()"
   ]
  },
  {
   "cell_type": "code",
   "execution_count": 9,
   "metadata": {},
   "outputs": [],
   "source": [
    "def plot_confusion_matrix (title, data):\n",
    "    df_cm = pd.DataFrame(data, index = [i for i in \"BM\"], columns = [i for i in \"BM\"])\n",
    "    plt.title(title)\n",
    "    sn.heatmap(df_cm, annot=True, cmap='Blues', fmt='g')\n",
    "    plt.show()"
   ]
  },
  {
   "cell_type": "code",
   "execution_count": 22,
   "metadata": {
    "scrolled": false
   },
   "outputs": [
    {
     "data": {
      "image/png": "[encoded data removed]",
      "text/plain": [
       "<Figure size 432x288 with 2 Axes>"
      ]
     },
     "metadata": {
      "needs_background": "light"
     },
     "output_type": "display_data"
    },
    {
     "data": {
      "image/png": "[encoded data removed]",
      "text/plain": [
       "<Figure size 432x288 with 1 Axes>"
      ]
     },
     "metadata": {
      "needs_background": "light"
     },
     "output_type": "display_data"
    },
    {
     "data": {
      "image/png": "[encoded data removed]",
      "text/plain": [
       "<Figure size 432x288 with 2 Axes>"
      ]
     },
     "metadata": {
      "needs_background": "light"
     },
     "output_type": "display_data"
    },
    {
     "data": {
      "image/png": "[encoded data removed]",
      "text/plain": [
       "<Figure size 432x288 with 1 Axes>"
      ]
     },
     "metadata": {
      "needs_background": "light"
     },
     "output_type": "display_data"
    },
    {
     "data": {
      "image/png": "[encoded data removed]",
      "text/plain": [
       "<Figure size 432x288 with 2 Axes>"
      ]
     },
     "metadata": {
      "needs_background": "light"
     },
     "output_type": "display_data"
    },
    {
     "data": {
      "image/png": "[encoded data removed]",
      "text/plain": [
       "<Figure size 432x288 with 1 Axes>"
      ]
     },
     "metadata": {
      "needs_background": "light"
     },
     "output_type": "display_data"
    },
    {
     "data": {
      "image/png": "[encoded data removed]",
      "text/plain": [
       "<Figure size 432x288 with 2 Axes>"
      ]
     },
     "metadata": {
      "needs_background": "light"
     },
     "output_type": "display_data"
    },
    {
     "data": {
      "image/png": "[encoded data removed]",
      "text/plain": [
       "<Figure size 432x288 with 1 Axes>"
      ]
     },
     "metadata": {
      "needs_background": "light"
     },
     "output_type": "display_data"
    }
   ],
   "source": [
    "for key in classifiers:\n",
    "    precision_list = list()\n",
    "    recall_list = list()\n",
    "    fscore_list = list()\n",
    "    for i in range(len(classifiers[key])):\n",
    "        clf = classifiers[key][i]\n",
    "        y_test_all = np.asarray([], dtype=np.uint8)\n",
    "        y_pred_all = np.asarray([], dtype=np.uint8)\n",
    "        conf_matrix_sum = np.zeros((2,2), dtype=np.uint16)\n",
    "\n",
    "        for train_index, test_index in kf.split(X, y):\n",
    "\n",
    "            X_train, X_test = X[train_index], X[test_index]\n",
    "            y_train, y_test = y[train_index], y[test_index]\n",
    "\n",
    "            clf.fit(X_train, y_train)\n",
    "\n",
    "            y_pred = clf.predict(X_test)\n",
    "            conf_matrix = confusion_matrix(y_test, y_pred)\n",
    "            y_test_all = np.concatenate((y_test_all, y_test))\n",
    "            y_pred_all = np.concatenate((y_pred_all, y_pred))\n",
    "            conf_matrix_sum = sum_confusion_matrix(conf_matrix, conf_matrix_sum)\n",
    "\n",
    "\n",
    "        \n",
    "        precision, recall, fscore, _ = precision_recall_fscore_support(y_test_all, y_pred_all, average='macro')\n",
    "        precision_list.append(precision)\n",
    "        recall_list.append(recall)\n",
    "        fscore_list.append(fscore)\n",
    "    plot_confusion_matrix(names[key], conf_matrix_sum)\n",
    "    plot(names[key], precision_list, recall_list, fscore_list, key)"
   ]
  },
  {
   "cell_type": "code",
   "execution_count": null,
   "metadata": {},
   "outputs": [],
   "source": []
  }
 ],
 "metadata": {
  "kernelspec": {
   "display_name": "Python 3",
   "language": "python",
   "name": "python3"
  },
  "language_info": {
   "codemirror_mode": {
    "name": "ipython",
    "version": 3
   },
   "file_extension": ".py",
   "mimetype": "text/x-python",
   "name": "python",
   "nbconvert_exporter": "python",
   "pygments_lexer": "ipython3",
   "version": "3.5.3"
  }
 },
 "nbformat": 4,
 "nbformat_minor": 2
}
